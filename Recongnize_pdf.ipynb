{
 "cells": [
  {
   "cell_type": "code",
   "execution_count": 2,
   "metadata": {},
   "outputs": [
    {
     "name": "stdout",
     "output_type": "stream",
     "text": [
      "Requirement already satisfied: opencv-python in c:\\programdata\\anaconda3\\lib\\site-packages (4.2.0.32)\n",
      "Requirement already satisfied: numpy>=1.14.5 in c:\\programdata\\anaconda3\\lib\\site-packages (from opencv-python) (1.16.4)\n"
     ]
    }
   ],
   "source": [
    "!pip install opencv-python"
   ]
  },
  {
   "cell_type": "code",
   "execution_count": 3,
   "metadata": {},
   "outputs": [
    {
     "name": "stdout",
     "output_type": "stream",
     "text": [
      "Collecting pytesseract\n",
      "  Downloading https://files.pythonhosted.org/packages/3c/1d/2993a05adb253902a372d7886733ae7688615cf000c54fe3c075892cb5d4/pytesseract-0.3.3.tar.gz\n",
      "Requirement already satisfied: Pillow in c:\\programdata\\anaconda3\\lib\\site-packages (from pytesseract) (6.1.0)\n",
      "Building wheels for collected packages: pytesseract\n",
      "  Building wheel for pytesseract (setup.py): started\n",
      "  Building wheel for pytesseract (setup.py): finished with status 'done'\n",
      "  Stored in directory: C:\\Users\\tosea\\AppData\\Local\\pip\\Cache\\wheels\\82\\1a\\d0\\a884540a5602305f5bb7ff44f05550be20453edce8fae69241\n",
      "Successfully built pytesseract\n",
      "Installing collected packages: pytesseract\n",
      "Successfully installed pytesseract-0.3.3\n"
     ]
    }
   ],
   "source": [
    "!pip install pytesseract"
   ]
  },
  {
   "cell_type": "code",
   "execution_count": 16,
   "metadata": {},
   "outputs": [
    {
     "name": "stdout",
     "output_type": "stream",
     "text": [
      "Collecting pdf2image\n",
      "  Downloading https://files.pythonhosted.org/packages/c3/12/ba5aadb3ba2e9c0f15d897622aa5707d64d0b2cab1fb34bee21559fa386a/pdf2image-1.12.1.tar.gz\n",
      "Requirement already satisfied: pillow in c:\\programdata\\anaconda3\\lib\\site-packages (from pdf2image) (6.1.0)\n",
      "Building wheels for collected packages: pdf2image\n",
      "  Building wheel for pdf2image (setup.py): started\n",
      "  Building wheel for pdf2image (setup.py): finished with status 'done'\n",
      "  Stored in directory: C:\\Users\\tosea\\AppData\\Local\\pip\\Cache\\wheels\\0f\\80\\3a\\fac1dc0f7dbe12c805b9dc6497f325f0e9f9cedbec3ab0185b\n",
      "Successfully built pdf2image\n",
      "Installing collected packages: pdf2image\n",
      "Successfully installed pdf2image-1.12.1\n"
     ]
    }
   ],
   "source": [
    "!pip install pdf2image"
   ]
  },
  {
   "cell_type": "code",
   "execution_count": 7,
   "metadata": {},
   "outputs": [],
   "source": [
    "import cv2"
   ]
  },
  {
   "cell_type": "code",
   "execution_count": 8,
   "metadata": {},
   "outputs": [],
   "source": [
    "import pytesseract"
   ]
  },
  {
   "cell_type": "code",
   "execution_count": 9,
   "metadata": {},
   "outputs": [],
   "source": [
    "from pdf2image import convert_from_path "
   ]
  },
  {
   "cell_type": "code",
   "execution_count": 10,
   "metadata": {},
   "outputs": [],
   "source": [
    "pytesseract.pytesseract.tesseract_cmd = r\"C:\\Program Files\\Tesseract-OCR\\tesseract.exe\""
   ]
  },
  {
   "cell_type": "code",
   "execution_count": 11,
   "metadata": {},
   "outputs": [],
   "source": [
    "PDF_file = \"106307263.pdf\""
   ]
  },
  {
   "cell_type": "code",
   "execution_count": 12,
   "metadata": {},
   "outputs": [],
   "source": [
    "pages = convert_from_path(PDF_file, 500) "
   ]
  },
  {
   "cell_type": "code",
   "execution_count": 13,
   "metadata": {},
   "outputs": [],
   "source": [
    "# Counter to store images of each page of PDF to image \n",
    "image_counter = 1\n",
    "  \n",
    "# Iterate through all the pages stored above \n",
    "for page in pages: \n",
    "  \n",
    "    # Declaring filename for each page of PDF as JPG \n",
    "    # For each page, filename will be: \n",
    "    # PDF page 1 -> page_1.jpg \n",
    "    # PDF page 2 -> page_2.jpg \n",
    "    # PDF page 3 -> page_3.jpg \n",
    "    # .... \n",
    "    # PDF page n -> page_n.jpg \n",
    "    filename = \"page_\"+str(image_counter)+\".png\"\n",
    "      \n",
    "    # Save the image of the page in system \n",
    "    page.save(filename, 'PNG') \n",
    "  \n",
    "    # Increment the counter to update filename \n",
    "    image_counter = image_counter + 1"
   ]
  },
  {
   "cell_type": "code",
   "execution_count": 14,
   "metadata": {},
   "outputs": [],
   "source": [
    "img = cv2.imread(\"page_1.png\")"
   ]
  },
  {
   "cell_type": "code",
   "execution_count": 15,
   "metadata": {},
   "outputs": [],
   "source": [
    "text = pytesseract.image_to_string(img)"
   ]
  },
  {
   "cell_type": "code",
   "execution_count": 16,
   "metadata": {
    "scrolled": true
   },
   "outputs": [
    {
     "name": "stdout",
     "output_type": "stream",
     "text": [
      "GOVERNMENT TERRORISM IN RUSSIA.\n",
      "Gen. Strelnikoft’s plan was to arrest simul-\n",
      "taneously alarge number of persons be-\n",
      "longing to the “untrustworthy” class:\n",
      "throw them into prison, keep them for 10\n",
      "days or two weeks in the strictest solitary\n",
      "confinement, and then subject them to a\n",
      "terrifying inquisitorial exainination with\n",
      "the hope of extorting scraps of information,\n",
      "\n",
      "here a little and there a little, which might\n",
      "be pieced together, like the parts of a dis-\n",
      "sected map, so asto reveal the outlines of\n",
      "a revolutionary plot. If, for example, a\n",
      "young girl belonged toan ‘untrustworthy ”\n",
      "family, and a “suspicious” letter to her\n",
      "had been intercepted by the authorities; or\n",
      "if she had been seen coming out of a ‘ sus-\n",
      "picions” house ata iate hourin the even-\n",
      "ing. she was arrested in one of these\n",
      "police raids, generally at night, conveyed in\n",
      "a close carriage to the Odessa prison; put\n",
      "into a Small solitary-continement coll and\n",
      "left to her own agonizing thoughts. No ex-\n",
      "pianation was given her of this summary\n",
      "procecding, and if she appealed to the sen-\n",
      "tinelon duty in the corridor the only reply\n",
      "she obtained was “ Prikazano ne gavarit”\n",
      "— \"Talking is forbidden.” The effect pro-\n",
      "duced upon a young, inexperienced, impress-\n",
      "ible girl by the overwhelming shock of\n",
      "such a transition from the repose, quiet, and\n",
      "security of her own bedroom,in her own\n",
      "homo, to a narrow, gloomy cell in a common\n",
      "criminal prison at night, can readily be im-\n",
      "agined. iiven if she were a girl of cour-\n",
      "age and firmness of character, her self-\n",
      "control might give way under the strain\n",
      "of such an ordeal. The sounds which break\n",
      "the stillness of a Russian criminal prison at\n",
      "night—tho stealthy tread of the guard; the\n",
      "faintly heard cries and stra gles of a drunk-\n",
      "en und disorderly “ casual’ who is being\n",
      "strapped to his bed in another part of the\n",
      "prison—cries which suggest to an inexperi-\n",
      "enced girl some terrible scene of violence\n",
      "and outrage; the occasional clang of a\n",
      "heavy door; the moaning and hysterical\n",
      "weeping of other recently-arrested prison-\n",
      "ers in cells on the same corridor, and the\n",
      "sudden and noiseless appearance now and\n",
      "then of an unknown human face at the lit-\n",
      "tle square porthole in the cell door through\n",
      "which the prisoners are watched—all com-\n",
      "bine to make the first night of a young girl\n",
      "in prison an experience never to be forgot-\n",
      "ten while she lives. This experience, haw-\n",
      "over, 18 only the beginningof thetrial which\n",
      "her courage and self-control are destined\n",
      "to undergo. One day passes—two days—\n",
      "three days—ten days—without bringing any\n",
      "news from the outside world, or any infor-\n",
      "mation concerning the nature of the charges\n",
      "inade against her. ‘Twice every 24\n",
      "hours food its handed to her through the\n",
      "square porthole by the taciturn guard, but\n",
      "nothing else breaks the monotony and the\n",
      "solitude of her life. She has no books, no\n",
      "writing materials, no means whatever of\n",
      "diverting her thoughts or relieving the men-\n",
      "tal strain which soon becomes almost unen-\n",
      "durable. Tortured by apprehension and b\n",
      "uncertainty as to her own fate and the fate\n",
      "ot those dear to her, she can only pace her\n",
      "cell from corner to carner until she is ex-\n",
      "hausted, and then throw herself on the nar-\n",
      "row prison bed and in sleep try to Jose con-\n",
      "sciousness of her misery.—The Century.\n",
      "\n",
      "Ehe New dork Gimes\n",
      "\n",
      "Published: December 18, 1887\n",
      "Copyright © The New York Times\n"
     ]
    }
   ],
   "source": [
    "print(text)"
   ]
  }
 ],
 "metadata": {
  "kernelspec": {
   "display_name": "Python 3",
   "language": "python",
   "name": "python3"
  },
  "language_info": {
   "codemirror_mode": {
    "name": "ipython",
    "version": 3
   },
   "file_extension": ".py",
   "mimetype": "text/x-python",
   "name": "python",
   "nbconvert_exporter": "python",
   "pygments_lexer": "ipython3",
   "version": "3.7.3"
  }
 },
 "nbformat": 4,
 "nbformat_minor": 2
}
